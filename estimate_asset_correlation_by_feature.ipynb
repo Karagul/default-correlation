{
 "cells": [
  {
   "cell_type": "markdown",
   "metadata": {},
   "source": [
    "# Estimate Default Correlation of Lending Club Data"
   ]
  },
  {
   "cell_type": "markdown",
   "metadata": {},
   "source": [
    "I apply Merton's single index model to Lending Club loan data to calculate Default Correlation within each cohort.  I found that default correlation is high for lower grade Lending Club customers, high for customers who own their own houses, high for customers with higher annual income, and high for larger-size loans.  The early loans have higher default correlations, and the Lending Club has lowered the default correlation over time, perhaps by diversifying the customers."
   ]
  },
  {
   "cell_type": "markdown",
   "metadata": {},
   "source": [
    "## Data Processing"
   ]
  },
  {
   "cell_type": "markdown",
   "metadata": {},
   "source": [
    "I use lending club data from 2011 to 2016 for this analysis."
   ]
  },
  {
   "cell_type": "code",
   "execution_count": 1,
   "metadata": {},
   "outputs": [],
   "source": [
    "def process_data(data, var):\n",
    "    data = data.loc[data['issue_d'].notnull(), var]\n",
    "    data = data.loc[[x in ['Charged Off', 'Fully Paid'] for x in data['loan_status']],  :]\n",
    "    issue_d = pd.to_datetime(data['issue_d'], errors='ignore', unit='ns')\n",
    "    curr_d = max(issue_d)\n",
    "    data['mob']=12 * (curr_d.year - issue_d.dt.year) + (curr_d.month - issue_d.dt.month) + 3\n",
    "    # assume the current date is the max issue date + 3 month\n",
    "    return data"
   ]
  },
  {
   "cell_type": "code",
   "execution_count": 2,
   "metadata": {},
   "outputs": [],
   "source": [
    "var = ['loan_amnt', 'term', 'grade', 'sub_grade', 'issue_d', \n",
    " 'loan_status', 'addr_state', 'annual_inc', 'home_ownership']"
   ]
  },
  {
   "cell_type": "code",
   "execution_count": 3,
   "metadata": {},
   "outputs": [
    {
     "name": "stderr",
     "output_type": "stream",
     "text": [
      "/Library/Frameworks/Python.framework/Versions/3.6/lib/python3.6/site-packages/IPython/core/interactiveshell.py:2785: DtypeWarning: Columns (0,47) have mixed types. Specify dtype option on import or set low_memory=False.\n",
      "  interactivity=interactivity, compiler=compiler, result=result)\n"
     ]
    }
   ],
   "source": [
    "import pandas as pd\n",
    "d = pd.read_csv('~/datasets/lending_club/LoanStats3a.csv', skiprows = 1)\n",
    "part1 = process_data(d, var)"
   ]
  },
  {
   "cell_type": "code",
   "execution_count": 4,
   "metadata": {},
   "outputs": [
    {
     "name": "stderr",
     "output_type": "stream",
     "text": [
      "/Library/Frameworks/Python.framework/Versions/3.6/lib/python3.6/site-packages/IPython/core/interactiveshell.py:2785: DtypeWarning: Columns (0,47,123,124,125,128,129,130,133) have mixed types. Specify dtype option on import or set low_memory=False.\n",
      "  interactivity=interactivity, compiler=compiler, result=result)\n"
     ]
    }
   ],
   "source": [
    "d = pd.read_csv('~/datasets/lending_club/LoanStats3b.csv', skiprows = 1)\n",
    "part2 = process_data(d, var)"
   ]
  },
  {
   "cell_type": "code",
   "execution_count": 5,
   "metadata": {},
   "outputs": [
    {
     "name": "stderr",
     "output_type": "stream",
     "text": [
      "/Library/Frameworks/Python.framework/Versions/3.6/lib/python3.6/site-packages/IPython/core/interactiveshell.py:2785: DtypeWarning: Columns (0,19) have mixed types. Specify dtype option on import or set low_memory=False.\n",
      "  interactivity=interactivity, compiler=compiler, result=result)\n"
     ]
    }
   ],
   "source": [
    "d = pd.read_csv('~/datasets/lending_club/LoanStats3c.csv', skiprows = 1)\n",
    "part3 = process_data(d, var)"
   ]
  },
  {
   "cell_type": "code",
   "execution_count": 6,
   "metadata": {},
   "outputs": [
    {
     "name": "stderr",
     "output_type": "stream",
     "text": [
      "/Library/Frameworks/Python.framework/Versions/3.6/lib/python3.6/site-packages/IPython/core/interactiveshell.py:2785: DtypeWarning: Columns (0,19,55) have mixed types. Specify dtype option on import or set low_memory=False.\n",
      "  interactivity=interactivity, compiler=compiler, result=result)\n"
     ]
    }
   ],
   "source": [
    "d = pd.read_csv('~/datasets/lending_club/LoanStats3d.csv', skiprows = 1)\n",
    "part4 = process_data(d, var)"
   ]
  },
  {
   "cell_type": "code",
   "execution_count": 7,
   "metadata": {},
   "outputs": [
    {
     "name": "stderr",
     "output_type": "stream",
     "text": [
      "/Library/Frameworks/Python.framework/Versions/3.6/lib/python3.6/site-packages/IPython/core/interactiveshell.py:2785: DtypeWarning: Columns (0,19) have mixed types. Specify dtype option on import or set low_memory=False.\n",
      "  interactivity=interactivity, compiler=compiler, result=result)\n"
     ]
    }
   ],
   "source": [
    "d = pd.read_csv('~/datasets/lending_club/LoanStats_2016Q1.csv', skiprows = 1)\n",
    "part5 = process_data(d, var)"
   ]
  },
  {
   "cell_type": "code",
   "execution_count": 8,
   "metadata": {},
   "outputs": [
    {
     "name": "stderr",
     "output_type": "stream",
     "text": [
      "/Library/Frameworks/Python.framework/Versions/3.6/lib/python3.6/site-packages/IPython/core/interactiveshell.py:2785: DtypeWarning: Columns (0,19,55) have mixed types. Specify dtype option on import or set low_memory=False.\n",
      "  interactivity=interactivity, compiler=compiler, result=result)\n"
     ]
    }
   ],
   "source": [
    "d = pd.read_csv('~/datasets/lending_club/LoanStats_2016Q2.csv', skiprows = 1)\n",
    "part6 = process_data(d, var)"
   ]
  },
  {
   "cell_type": "code",
   "execution_count": 9,
   "metadata": {},
   "outputs": [
    {
     "name": "stderr",
     "output_type": "stream",
     "text": [
      "/Library/Frameworks/Python.framework/Versions/3.6/lib/python3.6/site-packages/IPython/core/interactiveshell.py:2785: DtypeWarning: Columns (0,19,55) have mixed types. Specify dtype option on import or set low_memory=False.\n",
      "  interactivity=interactivity, compiler=compiler, result=result)\n"
     ]
    }
   ],
   "source": [
    "d = pd.read_csv('~/datasets/lending_club/LoanStats_2016Q3.csv', skiprows = 1)\n",
    "part7 = process_data(d, var)"
   ]
  },
  {
   "cell_type": "code",
   "execution_count": 10,
   "metadata": {},
   "outputs": [
    {
     "name": "stderr",
     "output_type": "stream",
     "text": [
      "/Library/Frameworks/Python.framework/Versions/3.6/lib/python3.6/site-packages/IPython/core/interactiveshell.py:2785: DtypeWarning: Columns (0,19) have mixed types. Specify dtype option on import or set low_memory=False.\n",
      "  interactivity=interactivity, compiler=compiler, result=result)\n"
     ]
    }
   ],
   "source": [
    "d = pd.read_csv('~/datasets/lending_club/LoanStats_2016Q4.csv', skiprows = 1)\n",
    "part8 = process_data(d, var)"
   ]
  },
  {
   "cell_type": "code",
   "execution_count": 11,
   "metadata": {},
   "outputs": [],
   "source": [
    "data = pd.concat([part1, part2, part3, part4, part5, part6, part7, part8], axis = 0)"
   ]
  },
  {
   "cell_type": "code",
   "execution_count": 12,
   "metadata": {},
   "outputs": [
    {
     "data": {
      "text/plain": [
       "(1012240, 10)"
      ]
     },
     "execution_count": 12,
     "metadata": {},
     "output_type": "execute_result"
    }
   ],
   "source": [
    "data.shape"
   ]
  },
  {
   "cell_type": "markdown",
   "metadata": {},
   "source": [
    "## Estimate Default Correlation by Method of Moments"
   ]
  },
  {
   "cell_type": "code",
   "execution_count": 13,
   "metadata": {},
   "outputs": [],
   "source": [
    "from scipy.stats import norm, uniform, multivariate_normal\n",
    "from scipy.optimize import minimize\n",
    "import numpy as np\n",
    "# GMM value function for Merton Single Factor Corpula Model\n",
    "def val_func(r, pd):\n",
    "    p = np.mean(pd)\n",
    "    d = norm.ppf(p)\n",
    "    v = np.var(pd)\n",
    "    e = v + p ** 2\n",
    "    pnorm = multivariate_normal.cdf(x = [d, d], mean = [0, 0], cov = [[1, r], [r, 1]])\n",
    "    return (e - pnorm) ** 2"
   ]
  },
  {
   "cell_type": "code",
   "execution_count": 14,
   "metadata": {},
   "outputs": [
    {
     "data": {
      "text/plain": [
       "Index(['loan_amnt', 'term', 'grade', 'sub_grade', 'issue_d', 'loan_status',\n",
       "       'addr_state', 'annual_inc', 'home_ownership', 'mob'],\n",
       "      dtype='object')"
      ]
     },
     "execution_count": 14,
     "metadata": {},
     "output_type": "execute_result"
    }
   ],
   "source": [
    "data.columns"
   ]
  },
  {
   "cell_type": "markdown",
   "metadata": {},
   "source": [
    "## Grade"
   ]
  },
  {
   "cell_type": "markdown",
   "metadata": {},
   "source": [
    "Lower-grade loans have higher default correlations."
   ]
  },
  {
   "cell_type": "code",
   "execution_count": 31,
   "metadata": {},
   "outputs": [
    {
     "data": {
      "image/png": "[encoded data removed]",
      "text/plain": [
       "<Figure size 432x288 with 1 Axes>"
      ]
     },
     "metadata": {},
     "output_type": "display_data"
    }
   ],
   "source": [
    "d0 = data[['mob', 'grade', 'loan_status']].reset_index()\n",
    "df = pd.pivot_table(d0, index='grade', \n",
    "                 columns=['loan_status', 'mob'],\n",
    "                 fill_value=0,\n",
    "                 aggfunc='count')\n",
    "res = []\n",
    "for g in df.index:\n",
    "    d = df.loc[g].unstack().fillna(0)\n",
    "    probD = d.iloc[0, :]/(d.iloc[0, :] + d.iloc[1, :])\n",
    "    out = minimize(val_func, method = 'Nelder-Mead', x0 = 0.5, args = probD)\n",
    "    res.append(float(out.x))\n",
    "\n",
    "pltDf = pd.concat([pd.Series(df.index, name = 'Grade'), pd.Series(res, name = 'AC')], axis = 1)\n",
    "from matplotlib import pyplot as plt\n",
    "import seaborn as sns\n",
    "sns.barplot(x = 'Grade', y = 'AC', data = pltDf, color = '#b9be00')\n",
    "plt.show()"
   ]
  },
  {
   "cell_type": "markdown",
   "metadata": {},
   "source": [
    "## Term"
   ]
  },
  {
   "cell_type": "markdown",
   "metadata": {},
   "source": [
    "No significant difference in default correlation lies between different terms of loans."
   ]
  },
  {
   "cell_type": "code",
   "execution_count": 16,
   "metadata": {},
   "outputs": [
    {
     "data": {
      "image/png": "[encoded data removed]",
      "text/plain": [
       "<Figure size 432x288 with 1 Axes>"
      ]
     },
     "metadata": {},
     "output_type": "display_data"
    }
   ],
   "source": [
    "d0 = data[['mob', 'term', 'loan_status']].reset_index()\n",
    "df = pd.pivot_table(d0, index='term', \n",
    "                 columns=['loan_status', 'mob'],\n",
    "                 fill_value=0,\n",
    "                 aggfunc='count')\n",
    "res = []\n",
    "for g in df.index:\n",
    "    d = df.loc[g].unstack().fillna(0)\n",
    "    probD = d.iloc[0, :]/(d.iloc[0, :] + d.iloc[1, :])\n",
    "    out = minimize(val_func, method = 'Nelder-Mead', x0 = 0.5, args = probD)\n",
    "    res.append(float(out.x))\n",
    "\n",
    "pltDf = pd.concat([pd.Series(df.index, name = 'Term'), pd.Series(res, name = 'AC')], axis = 1)\n",
    "from matplotlib import pyplot as plt\n",
    "import seaborn as sns\n",
    "sns.barplot(x = 'Term', y = 'AC', data = pltDf, color = '#b9be00')\n",
    "plt.show()"
   ]
  },
  {
   "cell_type": "markdown",
   "metadata": {},
   "source": [
    "## States"
   ]
  },
  {
   "cell_type": "markdown",
   "metadata": {},
   "source": [
    "Default correlations iin the states of large clientele vary.  NY and TX have the lowest."
   ]
  },
  {
   "cell_type": "code",
   "execution_count": 17,
   "metadata": {},
   "outputs": [],
   "source": [
    "tab = data.groupby('addr_state').size()\n",
    "st = tab[tab > 30000].index # focus on states with at least 30000 borrowers"
   ]
  },
  {
   "cell_type": "code",
   "execution_count": 18,
   "metadata": {},
   "outputs": [
    {
     "data": {
      "image/png": "[encoded data removed]",
      "text/plain": [
       "<Figure size 432x288 with 1 Axes>"
      ]
     },
     "metadata": {},
     "output_type": "display_data"
    }
   ],
   "source": [
    "d0 = data[['mob', 'addr_state', 'loan_status']].reset_index()\n",
    "df = pd.pivot_table(d0, index='addr_state', \n",
    "                 columns=['loan_status', 'mob'],\n",
    "                 fill_value=0,\n",
    "                 aggfunc='count')\n",
    "res = []\n",
    "for g in st:\n",
    "    d = df.loc[g].unstack().fillna(0)\n",
    "    probD = d.iloc[0, :]/(d.iloc[0, :] + d.iloc[1, :])\n",
    "    out = minimize(val_func, method = 'Nelder-Mead', x0 = 0.5, args = probD)\n",
    "    res.append(float(out.x))\n",
    "\n",
    "pltDf = pd.concat([pd.Series(st, name = 'States'), pd.Series(res, name = 'AC')], axis = 1)\n",
    "from matplotlib import pyplot as plt\n",
    "import seaborn as sns\n",
    "sns.barplot(x = 'States', y = 'AC', data = pltDf, color = '#b9be00')\n",
    "plt.show()"
   ]
  },
  {
   "cell_type": "markdown",
   "metadata": {},
   "source": [
    "## Home Ownership"
   ]
  },
  {
   "cell_type": "markdown",
   "metadata": {},
   "source": [
    "Loans made to clients who own their own house have higher default correlations."
   ]
  },
  {
   "cell_type": "code",
   "execution_count": 19,
   "metadata": {},
   "outputs": [
    {
     "data": {
      "text/plain": [
       "home_ownership\n",
       "ANY             52\n",
       "MORTGAGE    500822\n",
       "NONE            45\n",
       "OTHER          144\n",
       "OWN         104267\n",
       "RENT        406910\n",
       "dtype: int64"
      ]
     },
     "execution_count": 19,
     "metadata": {},
     "output_type": "execute_result"
    }
   ],
   "source": [
    "data.groupby(['home_ownership']).size()"
   ]
  },
  {
   "cell_type": "code",
   "execution_count": 20,
   "metadata": {},
   "outputs": [
    {
     "data": {
      "image/png": "[encoded data removed]",
      "text/plain": [
       "<Figure size 432x288 with 1 Axes>"
      ]
     },
     "metadata": {},
     "output_type": "display_data"
    }
   ],
   "source": [
    "d0 = data[['mob', 'home_ownership', 'loan_status']].reset_index()\n",
    "df = pd.pivot_table(d0, index='home_ownership', \n",
    "                 columns=['loan_status', 'mob'],\n",
    "                 fill_value=0,\n",
    "                 aggfunc='count')\n",
    "res = []\n",
    "for g in ['MORTGAGE', 'OWN', 'RENT']:\n",
    "    d = df.loc[g].unstack().fillna(0)\n",
    "    probD = d.iloc[0, :]/(d.iloc[0, :] + d.iloc[1, :])\n",
    "    out = minimize(val_func, method = 'Nelder-Mead', x0 = 0.5, args = probD)\n",
    "    res.append(float(out.x))\n",
    "\n",
    "pltDf = pd.concat([pd.Series(['MORTGAGE', 'OWN', 'RENT'], name = 'homeOwnership'), pd.Series(res, name = 'AC')], axis = 1)\n",
    "from matplotlib import pyplot as plt\n",
    "import seaborn as sns\n",
    "sns.barplot(x = 'homeOwnership', y = 'AC', data = pltDf, color = '#b9be00')\n",
    "plt.show()"
   ]
  },
  {
   "cell_type": "markdown",
   "metadata": {},
   "source": [
    "## Annual Income Groups"
   ]
  },
  {
   "cell_type": "markdown",
   "metadata": {},
   "source": [
    "Default correlations of loans issued to clients of income above 120K are high."
   ]
  },
  {
   "cell_type": "code",
   "execution_count": 21,
   "metadata": {},
   "outputs": [
    {
     "data": {
      "text/plain": [
       "count    1012.240000\n",
       "mean       75.325737\n",
       "std        66.099719\n",
       "min         0.000000\n",
       "25%        45.000000\n",
       "50%        65.000000\n",
       "75%        90.000000\n",
       "max      9550.000000\n",
       "Name: annual_inc, dtype: float64"
      ]
     },
     "execution_count": 21,
     "metadata": {},
     "output_type": "execute_result"
    }
   ],
   "source": [
    "data['annual_inc'].describe()/1000"
   ]
  },
  {
   "cell_type": "code",
   "execution_count": 22,
   "metadata": {},
   "outputs": [],
   "source": [
    "out = []\n",
    "for x in data['annual_inc']:\n",
    "    if x <= 40000:\n",
    "        out.append('low')\n",
    "    elif x <= 120000:\n",
    "        out.append('medium')\n",
    "    else:\n",
    "        out.append('high')\n",
    "data['inc_group'] = out"
   ]
  },
  {
   "cell_type": "code",
   "execution_count": 23,
   "metadata": {},
   "outputs": [
    {
     "data": {
      "text/plain": [
       "inc_group\n",
       "high      106747\n",
       "low       186621\n",
       "medium    718872\n",
       "dtype: int64"
      ]
     },
     "execution_count": 23,
     "metadata": {},
     "output_type": "execute_result"
    }
   ],
   "source": [
    "data.groupby(['inc_group']).size()"
   ]
  },
  {
   "cell_type": "code",
   "execution_count": 24,
   "metadata": {},
   "outputs": [
    {
     "data": {
      "image/png": "[encoded data removed]",
      "text/plain": [
       "<Figure size 432x288 with 1 Axes>"
      ]
     },
     "metadata": {},
     "output_type": "display_data"
    }
   ],
   "source": [
    "d0 = data[['mob', 'inc_group', 'loan_status']].reset_index()\n",
    "df = pd.pivot_table(d0, index='inc_group', \n",
    "                 columns=['loan_status', 'mob'],\n",
    "                 fill_value=0,\n",
    "                 aggfunc='count')\n",
    "res = []\n",
    "for g in df.index:\n",
    "    d = df.loc[g].unstack().fillna(0)\n",
    "    probD = d.iloc[0, :]/(d.iloc[0, :] + d.iloc[1, :])\n",
    "    out = minimize(val_func, method = 'Nelder-Mead', x0 = 0.5, args = probD)\n",
    "    res.append(float(out.x))\n",
    "\n",
    "pltDf = pd.concat([pd.Series(df.index, name = 'inc_group'), pd.Series(res, name = 'AC')], axis = 1)\n",
    "from matplotlib import pyplot as plt\n",
    "import seaborn as sns\n",
    "sns.barplot(x = 'inc_group', y = 'AC', data = pltDf, color = '#b9be00')\n",
    "plt.show()"
   ]
  },
  {
   "cell_type": "markdown",
   "metadata": {},
   "source": [
    "## Loan Amount"
   ]
  },
  {
   "cell_type": "markdown",
   "metadata": {},
   "source": [
    "Smaller loans have the lowest default correlation."
   ]
  },
  {
   "cell_type": "code",
   "execution_count": 25,
   "metadata": {},
   "outputs": [
    {
     "data": {
      "text/plain": [
       "count    1.012240e+06\n",
       "mean     1.439164e+04\n",
       "std      8.497052e+03\n",
       "min      5.000000e+02\n",
       "25%      8.000000e+03\n",
       "50%      1.200000e+04\n",
       "75%      2.000000e+04\n",
       "max      4.000000e+04\n",
       "Name: loan_amnt, dtype: float64"
      ]
     },
     "execution_count": 25,
     "metadata": {},
     "output_type": "execute_result"
    }
   ],
   "source": [
    "data['loan_amnt'].describe()"
   ]
  },
  {
   "cell_type": "code",
   "execution_count": 26,
   "metadata": {},
   "outputs": [],
   "source": [
    "out = []\n",
    "for x in data['loan_amnt']:\n",
    "    if x <= 10000:\n",
    "        out.append('small_loan')\n",
    "    elif x <= 20000:\n",
    "        out.append('medium_loan')\n",
    "    else:\n",
    "        out.append('large_loan')\n",
    "data['loan_group'] = out"
   ]
  },
  {
   "cell_type": "code",
   "execution_count": 27,
   "metadata": {},
   "outputs": [
    {
     "data": {
      "text/plain": [
       "loan_group\n",
       "large_loan     217255\n",
       "medium_loan    384099\n",
       "small_loan     410886\n",
       "dtype: int64"
      ]
     },
     "execution_count": 27,
     "metadata": {},
     "output_type": "execute_result"
    }
   ],
   "source": [
    "data.groupby(['loan_group']).size()"
   ]
  },
  {
   "cell_type": "code",
   "execution_count": 28,
   "metadata": {},
   "outputs": [
    {
     "data": {
      "image/png": "[encoded data removed]",
      "text/plain": [
       "<Figure size 432x288 with 1 Axes>"
      ]
     },
     "metadata": {},
     "output_type": "display_data"
    }
   ],
   "source": [
    "d0 = data[['mob', 'loan_group', 'loan_status']].reset_index()\n",
    "df = pd.pivot_table(d0, index='loan_group', \n",
    "                 columns=['loan_status', 'mob'],\n",
    "                 fill_value=0,\n",
    "                 aggfunc='count')\n",
    "res = []\n",
    "for g in df.index:\n",
    "    d = df.loc[g].unstack().fillna(0)\n",
    "    probD = d.iloc[0, :]/(d.iloc[0, :] + d.iloc[1, :])\n",
    "    out = minimize(val_func, method = 'Nelder-Mead', x0 = 0.5, args = probD)\n",
    "    res.append(float(out.x))\n",
    "\n",
    "pltDf = pd.concat([pd.Series(df.index, name = 'loan_group'), pd.Series(res, name = 'AC')], axis = 1)\n",
    "from matplotlib import pyplot as plt\n",
    "import seaborn as sns\n",
    "sns.barplot(x = 'loan_group', y = 'AC', data = pltDf, color = '#b9be00')\n",
    "plt.show()"
   ]
  },
  {
   "cell_type": "markdown",
   "metadata": {},
   "source": [
    "## Loan Issue Years"
   ]
  },
  {
   "cell_type": "markdown",
   "metadata": {},
   "source": [
    "Default correlations of earlier loans are the highest.  As the Lending Club grows its client base, the diversity of the clientele lowers the default correlation overtime. "
   ]
  },
  {
   "cell_type": "code",
   "execution_count": 29,
   "metadata": {},
   "outputs": [
    {
     "data": {
      "text/plain": [
       "issue_y\n",
       "2007       251\n",
       "2008      1562\n",
       "2009      4716\n",
       "2010     11536\n",
       "2011     21721\n",
       "2012     53367\n",
       "2013    133111\n",
       "2014    217415\n",
       "2015    341460\n",
       "2016    227101\n",
       "dtype: int64"
      ]
     },
     "execution_count": 29,
     "metadata": {},
     "output_type": "execute_result"
    }
   ],
   "source": [
    "data['issue_y']  = [x.split(\"-\")[1] for x in data['issue_d']]\n",
    "data.groupby(['issue_y']).size()"
   ]
  },
  {
   "cell_type": "code",
   "execution_count": 30,
   "metadata": {},
   "outputs": [
    {
     "data": {
      "image/png": "[encoded data removed]",
      "text/plain": [
       "<Figure size 432x288 with 1 Axes>"
      ]
     },
     "metadata": {},
     "output_type": "display_data"
    }
   ],
   "source": [
    "d0 = data[['mob', 'issue_y', 'loan_status']].reset_index()\n",
    "df = pd.pivot_table(d0, index='issue_y', \n",
    "                 columns=['loan_status', 'mob'],\n",
    "                 fill_value=0,\n",
    "                 aggfunc='count')\n",
    "res = []\n",
    "for g in df.index:\n",
    "    d = df.loc[g].unstack().fillna(0)\n",
    "    probD = d.iloc[0, :]/(d.iloc[0, :] + d.iloc[1, :])\n",
    "    out = minimize(val_func, method = 'Nelder-Mead', x0 = 0.5, args = probD)\n",
    "    res.append(float(out.x))\n",
    "\n",
    "pltDf = pd.concat([pd.Series(df.index, name = 'issue_y'), pd.Series(res, name = 'AC')], axis = 1)\n",
    "from matplotlib import pyplot as plt\n",
    "import seaborn as sns\n",
    "sns.barplot(x = 'issue_y', y = 'AC', data = pltDf, color = '#b9be00')\n",
    "plt.show()"
   ]
  }
 ],
 "metadata": {
  "kernelspec": {
   "display_name": "Python 3",
   "language": "python",
   "name": "python3"
  },
  "language_info": {
   "codemirror_mode": {
    "name": "ipython",
    "version": 3
   },
   "file_extension": ".py",
   "mimetype": "text/x-python",
   "name": "python",
   "nbconvert_exporter": "python",
   "pygments_lexer": "ipython3",
   "version": "3.6.2"
  }
 },
 "nbformat": 4,
 "nbformat_minor": 2
}
